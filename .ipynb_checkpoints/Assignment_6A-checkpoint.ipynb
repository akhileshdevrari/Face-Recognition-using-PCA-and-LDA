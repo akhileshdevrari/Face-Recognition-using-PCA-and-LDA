{
 "cells": [
  {
   "cell_type": "code",
   "execution_count": 1,
   "metadata": {},
   "outputs": [],
   "source": [
    "import numpy as np\n",
    "import os\n",
    "import  matplotlib.image as mpimg\n",
    "from scipy import misc\n",
    "from PIL import Image\n",
    "import matplotlib.pyplot as plt\n",
    "#img=mpimg.imread('your_image.png')\n",
    "#imgplot = plt.imshow(img)\n",
    "plt.show()"
   ]
  },
  {
   "cell_type": "code",
   "execution_count": 19,
   "metadata": {},
   "outputs": [
    {
     "data": {
      "image/png": "[encoded data removed]",
      "text/plain": [
       "<Figure size 432x288 with 1 Axes>"
      ]
     },
     "metadata": {
      "needs_background": "light"
     },
     "output_type": "display_data"
    }
   ],
   "source": [
    "path = \"/home/rochisha/Desktop/Soft computing/orl_faces/s1/2.pgm\"\n",
    "try:  \n",
    "    img  = Image.open(path) \n",
    "    plt.imshow(img)\n",
    "except IOError: \n",
    "    pass"
   ]
  },
  {
   "cell_type": "code",
   "execution_count": 20,
   "metadata": {},
   "outputs": [],
   "source": [
    "def img_to_vector(filename = \"/home/rochisha/Desktop/Soft computing/orl_faces/s1/1.pgm\"):\n",
    "    img  = Image.open(filename).resize((112, 92)) \n",
    "    img_vector = np.array(img).flatten()\n",
    "    sz = img_vector.shape[0]\n",
    "    #img_vector = img_vector.reshape(sz,1)\n",
    "    return img_vector"
   ]
  },
  {
   "cell_type": "code",
   "execution_count": 21,
   "metadata": {},
   "outputs": [],
   "source": [
    "#running some tests\n",
    "#hey = img_to_vector()\n",
    "#print(type(hey))\n",
    "#print(hey)\n",
    "#print(hey.shape)"
   ]
  },
  {
   "cell_type": "code",
   "execution_count": 22,
   "metadata": {},
   "outputs": [],
   "source": [
    "def preprocess(dataset_dir = \"/home/rochisha/Desktop/Soft computing/orl_faces\"):\n",
    "    train_set = []\n",
    "    train_set_number = []\n",
    "    test_set = []\n",
    "    test_set_number = []\n",
    "    for i in range(40):\n",
    "        person_id = i+1\n",
    "        for j in range(10):\n",
    "            if j < 6 :\n",
    "                path = dataset_dir + '/s'+str(person_id)+'/'+str(j+1)+'.pgm'\n",
    "                img = img_to_vector(path).astype(np.int64) \n",
    "                train_set.append(img)\n",
    "                train_set_number.append(person_id)\n",
    "            else : \n",
    "                path = dataset_dir + '/s'+str(person_id)+'/'+str(j+1)+'.pgm'\n",
    "                img = img_to_vector(path).astype(np.int64)\n",
    "                test_set.append(img)\n",
    "                test_set_number.append(person_id)\n",
    "        \n",
    "    train_set = np.array(train_set)\n",
    "    train_set_number = np.array(train_set_number)\n",
    "    test_set = np.array(test_set)\n",
    "    test_set_number = np.array(test_set_number)\n",
    "    return train_set.T, train_set_number, test_set.T, test_set_number"
   ]
  },
  {
   "cell_type": "code",
   "execution_count": 23,
   "metadata": {},
   "outputs": [],
   "source": [
    "train_set,train_set_number,test_set,test_set_number = preprocess()"
   ]
  },
  {
   "cell_type": "code",
   "execution_count": 24,
   "metadata": {},
   "outputs": [
    {
     "name": "stdout",
     "output_type": "stream",
     "text": [
      "<class 'numpy.int64'>\n",
      "[[ 48  60  39 ... 130 128 123]\n",
      " [ 48  60  39 ... 130 128 123]\n",
      " [ 49  60  44 ... 123 125 121]\n",
      " ...\n",
      " [ 46  36  30 ...  38  86  35]\n",
      " [ 47  36  29 ...  32  88  45]\n",
      " [ 47  31  27 ...  42  91  39]]\n",
      "(10304, 240)\n"
     ]
    }
   ],
   "source": [
    "print(type(train_set[0][0]))\n",
    "print(train_set)\n",
    "print(train_set.shape)"
   ]
  },
  {
   "cell_type": "code",
   "execution_count": 8,
   "metadata": {},
   "outputs": [
    {
     "name": "stdout",
     "output_type": "stream",
     "text": [
      "[ 1  1  1  1  1  1  2  2  2  2  2  2  3  3  3  3  3  3  4  4  4  4  4  4\n",
      "  5  5  5  5  5  5  6  6  6  6  6  6  7  7  7  7  7  7  8  8  8  8  8  8\n",
      "  9  9  9  9  9  9 10 10 10 10 10 10 11 11 11 11 11 11 12 12 12 12 12 12\n",
      " 13 13 13 13 13 13 14 14 14 14 14 14 15 15 15 15 15 15 16 16 16 16 16 16\n",
      " 17 17 17 17 17 17 18 18 18 18 18 18 19 19 19 19 19 19 20 20 20 20 20 20\n",
      " 21 21 21 21 21 21 22 22 22 22 22 22 23 23 23 23 23 23 24 24 24 24 24 24\n",
      " 25 25 25 25 25 25 26 26 26 26 26 26 27 27 27 27 27 27 28 28 28 28 28 28\n",
      " 29 29 29 29 29 29 30 30 30 30 30 30 31 31 31 31 31 31 32 32 32 32 32 32\n",
      " 33 33 33 33 33 33 34 34 34 34 34 34 35 35 35 35 35 35 36 36 36 36 36 36\n",
      " 37 37 37 37 37 37 38 38 38 38 38 38 39 39 39 39 39 39 40 40 40 40 40 40]\n",
      "(240,)\n"
     ]
    }
   ],
   "source": [
    "print(train_set_number)\n",
    "print(train_set_number.shape)"
   ]
  },
  {
   "cell_type": "code",
   "execution_count": 9,
   "metadata": {},
   "outputs": [
    {
     "name": "stdout",
     "output_type": "stream",
     "text": [
      "[[ 41  44  42 ... 125 119 125]\n",
      " [ 41  44  42 ... 125 119 125]\n",
      " [ 47  43  41 ... 119 120 124]\n",
      " ...\n",
      " [ 37  44  44 ...  40  93  32]\n",
      " [ 39  36  42 ...  39  90  35]\n",
      " [ 33  32  39 ...  35  92  32]]\n",
      "(10304, 160)\n"
     ]
    }
   ],
   "source": [
    "print(test_set)\n",
    "print(test_set.shape)"
   ]
  },
  {
   "cell_type": "code",
   "execution_count": 10,
   "metadata": {},
   "outputs": [
    {
     "name": "stdout",
     "output_type": "stream",
     "text": [
      "[ 1  1  1  1  2  2  2  2  3  3  3  3  4  4  4  4  5  5  5  5  6  6  6  6\n",
      "  7  7  7  7  8  8  8  8  9  9  9  9 10 10 10 10 11 11 11 11 12 12 12 12\n",
      " 13 13 13 13 14 14 14 14 15 15 15 15 16 16 16 16 17 17 17 17 18 18 18 18\n",
      " 19 19 19 19 20 20 20 20 21 21 21 21 22 22 22 22 23 23 23 23 24 24 24 24\n",
      " 25 25 25 25 26 26 26 26 27 27 27 27 28 28 28 28 29 29 29 29 30 30 30 30\n",
      " 31 31 31 31 32 32 32 32 33 33 33 33 34 34 34 34 35 35 35 35 36 36 36 36\n",
      " 37 37 37 37 38 38 38 38 39 39 39 39 40 40 40 40]\n",
      "(160,)\n"
     ]
    }
   ],
   "source": [
    "print(test_set_number)\n",
    "print(test_set_number.shape)"
   ]
  },
  {
   "cell_type": "code",
   "execution_count": 11,
   "metadata": {},
   "outputs": [],
   "source": [
    "def find_mean(arr):\n",
    "    M = np.mean(arr, axis = 1)\n",
    "    return M"
   ]
  },
  {
   "cell_type": "code",
   "execution_count": 12,
   "metadata": {},
   "outputs": [
    {
     "name": "stdout",
     "output_type": "stream",
     "text": [
      "[84.82916667 84.82916667 84.82916667 ... 71.36666667 70.98333333\n",
      " 71.25833333]\n",
      "(10304,)\n",
      "\n"
     ]
    }
   ],
   "source": [
    "A = find_mean(train_set)\n",
    "print(A)\n",
    "print(A.shape)\n",
    "print()"
   ]
  },
  {
   "cell_type": "code",
   "execution_count": 13,
   "metadata": {},
   "outputs": [],
   "source": [
    "def mean_normalization(arr):\n",
    "    M = find_mean(arr)\n",
    "    x_range = arr.shape[0]\n",
    "    y_range = arr.shape[1]\n",
    "    for i in range(x_range):\n",
    "        for j in range(y_range):\n",
    "            arr[i][j] -= M[i]\n",
    "    return arr "
   ]
  },
  {
   "cell_type": "code",
   "execution_count": 14,
   "metadata": {},
   "outputs": [
    {
     "name": "stdout",
     "output_type": "stream",
     "text": [
      "[[-36 -24 -45 ...  45  43  38]\n",
      " [-36 -24 -45 ...  45  43  38]\n",
      " [-35 -24 -40 ...  38  40  36]\n",
      " ...\n",
      " [-25 -35 -41 ... -33  14 -36]\n",
      " [-23 -34 -41 ... -38  17 -25]\n",
      " [-24 -40 -44 ... -29  19 -32]]\n"
     ]
    }
   ],
   "source": [
    "A = mean_normalization(train_set)\n",
    "A = A/255\n",
    "print(A)"
   ]
  },
  {
   "cell_type": "code",
   "execution_count": 15,
   "metadata": {},
   "outputs": [
    {
     "name": "stdout",
     "output_type": "stream",
     "text": [
      "(10304, 240)\n"
     ]
    }
   ],
   "source": [
    "print(A.shape)"
   ]
  },
  {
   "cell_type": "code",
   "execution_count": 16,
   "metadata": {},
   "outputs": [
    {
     "name": "stdout",
     "output_type": "stream",
     "text": [
      "(240, 240)\n",
      "[[14138215  6515331  9440618 ... -2067375  1860167   323956]\n",
      " [ 6515331 25842748 10578511 ...  3354289  3287386  3280402]\n",
      " [ 9440618 10578511 19326264 ...  1590281  2590912  2832988]\n",
      " ...\n",
      " [-2067375  3354289  1590281 ... 13889491  3270886  4768320]\n",
      " [ 1860167  3287386  2590912 ...  3270886 10443756  3900750]\n",
      " [  323956  3280402  2832988 ...  4768320  3900750 12427889]]\n"
     ]
    }
   ],
   "source": [
    "L = np.dot(A.T, A)\n",
    "print(L.shape)\n",
    "print(L)"
   ]
  },
  {
   "cell_type": "code",
   "execution_count": 17,
   "metadata": {},
   "outputs": [
    {
     "name": "stdout",
     "output_type": "stream",
     "text": [
      "(10304, 240)\n",
      "[[ -4435674346  -1555388761  -6905841114 ...  13462514789  16023661252\n",
      "   16400788424]\n",
      " [ -4435674346  -1555388761  -6905841114 ...  13462514789  16023661252\n",
      "   16400788424]\n",
      " [ -4198112436  -1288499914  -6787290525 ...  13407343681  16153476086\n",
      "   16455678212]\n",
      " ...\n",
      " [-17574072535 -11737835282 -19707016624 ...  -1485785310  -9150322749\n",
      "   -5739744680]\n",
      " [-17943216468 -11717417658 -19737424852 ...   -692644777  -8616170462\n",
      "   -4789693227]\n",
      " [-17087581617 -11388916031 -18929198586 ...   -237287742  -7372652058\n",
      "   -3833320880]]\n"
     ]
    }
   ],
   "source": [
    "U = []\n",
    "sz = L.shape[0]\n",
    "for i in range(sz):\n",
    "    U.append(np.dot(A,L[:,i]))\n",
    "\n",
    "U = np.array(U)\n",
    "U = U.T\n",
    "print(U.shape)\n",
    "print(U)"
   ]
  },
  {
   "cell_type": "code",
   "execution_count": 18,
   "metadata": {},
   "outputs": [
    {
     "ename": "NameError",
     "evalue": "name 'weight_vector' is not defined",
     "output_type": "error",
     "traceback": [
      "\u001b[0;31m---------------------------------------------------------------------------\u001b[0m",
      "\u001b[0;31mNameError\u001b[0m                                 Traceback (most recent call last)",
      "\u001b[0;32m<ipython-input-18-57cc9807460a>\u001b[0m in \u001b[0;36m<module>\u001b[0;34m()\u001b[0m\n\u001b[1;32m      1\u001b[0m \u001b[0mweight_vector_train\u001b[0m \u001b[0;34m=\u001b[0m \u001b[0mnp\u001b[0m\u001b[0;34m.\u001b[0m\u001b[0mdot\u001b[0m\u001b[0;34m(\u001b[0m\u001b[0mU\u001b[0m\u001b[0;34m.\u001b[0m\u001b[0mT\u001b[0m\u001b[0;34m,\u001b[0m \u001b[0mA\u001b[0m\u001b[0;34m)\u001b[0m\u001b[0;34m\u001b[0m\u001b[0m\n\u001b[0;32m----> 2\u001b[0;31m \u001b[0mprint\u001b[0m\u001b[0;34m(\u001b[0m\u001b[0mweight_vector\u001b[0m\u001b[0;34m.\u001b[0m\u001b[0mshape\u001b[0m\u001b[0;34m)\u001b[0m\u001b[0;34m\u001b[0m\u001b[0m\n\u001b[0m\u001b[1;32m      3\u001b[0m \u001b[0mprint\u001b[0m\u001b[0;34m(\u001b[0m\u001b[0mweight_vector\u001b[0m\u001b[0;34m)\u001b[0m\u001b[0;34m\u001b[0m\u001b[0m\n",
      "\u001b[0;31mNameError\u001b[0m: name 'weight_vector' is not defined"
     ]
    }
   ],
   "source": [
    "weight_vector_train = np.dot(U.T, A)\n",
    "print(weight_vector.shape)\n",
    "print(weight_vector)\n"
   ]
  },
  {
   "cell_type": "markdown",
   "metadata": {},
   "source": [
    "# Testing\n"
   ]
  },
  {
   "cell_type": "code",
   "execution_count": null,
   "metadata": {},
   "outputs": [],
   "source": [
    "x_range = test_set.shape[0]\n",
    "y_range = test_set.shape[1]\n",
    "M = find_mean(train_set)\n",
    "for i in range(x_range):\n",
    "    for j in range(y_range):\n",
    "        test_set[i][j] -= M[i]\n",
    "print(test_set.shape)\n",
    "print(test_set)"
   ]
  },
  {
   "cell_type": "code",
   "execution_count": null,
   "metadata": {},
   "outputs": [],
   "source": [
    "weight_vector_test = np.dot(U.T, test_set)\n",
    "print(weight_vector_test.shape)\n",
    "print(weight_vector_test)"
   ]
  },
  {
   "cell_type": "code",
   "execution_count": null,
   "metadata": {},
   "outputs": [],
   "source": [
    "validation = []\n",
    "for i in range(160) : \n",
    "    ith_wv = weight_vector_test[:,i]\n",
    "    ans = 0\n",
    "    index = 0\n",
    "    for j in range(240):\n",
    "        jth_wv = weight_vector[:,j]\n",
    "        diff = ith_wv - jth_wv\n",
    "        diff = np.absolute(diff)\n",
    "        sm = np.sum(diff)\n",
    "        if ans == 0 :\n",
    "            ans = sm\n",
    "            index = j\n",
    "        else :\n",
    "            if sm < ans:\n",
    "                ans = sm\n",
    "                index = j\n",
    "    print(train_set_number[index])\n",
    "    if train_set_number[index] == test_set_number[i]:\n",
    "        validation.append(1)\n",
    "    else:\n",
    "        validation.append(0)"
   ]
  },
  {
   "cell_type": "code",
   "execution_count": 436,
   "metadata": {},
   "outputs": [
    {
     "name": "stdout",
     "output_type": "stream",
     "text": [
      "[0, 0, 0, 0, 0, 0, 0, 0, 0, 0, 0, 0, 0, 0, 0, 0, 0, 0, 0, 0, 0, 0, 0, 0, 0, 0, 0, 0, 0, 0, 0, 0, 1, 1, 1, 1, 0, 0, 0, 0, 0, 0, 0, 0, 0, 0, 0, 0, 0, 0, 0, 0, 0, 0, 0, 0, 0, 0, 0, 0, 0, 0, 0, 0, 0, 0, 0, 0, 0, 0, 0, 0, 0, 0, 0, 0, 0, 0, 0, 0, 0, 0, 0, 0, 0, 0, 0, 0, 0, 0, 0, 0, 0, 0, 0, 0, 0, 0, 0, 0, 0, 0, 0, 0, 0, 0, 0, 0, 0, 0, 0, 0, 0, 0, 0, 0, 0, 0, 0, 0, 0, 0, 0, 0, 0, 0, 0, 0, 0, 0, 0, 0, 0, 0, 0, 0, 0, 0, 0, 0, 0, 0, 0, 0, 0, 0, 0, 0, 0, 0, 0, 0, 0, 0, 0, 0, 0, 0, 0, 0]\n"
     ]
    }
   ],
   "source": [
    "#print(validation.shape)\n",
    "print(validation)"
   ]
  },
  {
   "cell_type": "code",
   "execution_count": null,
   "metadata": {},
   "outputs": [],
   "source": []
  },
  {
   "cell_type": "code",
   "execution_count": null,
   "metadata": {},
   "outputs": [],
   "source": []
  }
 ],
 "metadata": {
  "kernelspec": {
   "display_name": "Python 3",
   "language": "python",
   "name": "python3"
  },
  "language_info": {
   "codemirror_mode": {
    "name": "ipython",
    "version": 3
   },
   "file_extension": ".py",
   "mimetype": "text/x-python",
   "name": "python",
   "nbconvert_exporter": "python",
   "pygments_lexer": "ipython3",
   "version": "3.5.2"
  }
 },
 "nbformat": 4,
 "nbformat_minor": 2
}
